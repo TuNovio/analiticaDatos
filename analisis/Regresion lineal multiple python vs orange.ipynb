{
 "cells": [
  {
   "cell_type": "markdown",
   "metadata": {},
   "source": [
    "# Comparar las predicciones realizadas en python con las de orange\n",
    "- Codigo: 1193235519</p>\n",
    "- Nombre: Alfonso Gomajoa </p>"
   ]
  },
  {
   "cell_type": "markdown",
   "metadata": {},
   "source": [
    "# Regresión lineal multiple python vs orange"
   ]
  },
  {
   "cell_type": "code",
   "execution_count": 1,
   "metadata": {},
   "outputs": [],
   "source": [
    "import pandas as pd\n",
    "import sklearn.linear_model as sklm\n",
    "import seaborn as sns"
   ]
  },
  {
   "cell_type": "code",
   "execution_count": 2,
   "metadata": {},
   "outputs": [],
   "source": [
    "dfOrange = pd.read_csv(\"regresion lineal multiple.csv\")\n",
    "dfPython = pd.read_csv(\"automovilesEDA-curso.csv\")"
   ]
  },
  {
   "cell_type": "markdown",
   "metadata": {},
   "source": [
    "# Regresión lineal multiple python"
   ]
  },
  {
   "cell_type": "code",
   "execution_count": 3,
   "metadata": {},
   "outputs": [
    {
     "data": {
      "text/plain": [
       "array([13699.11161184, 19051.65470233, 10620.36193015, 15521.31420211,\n",
       "       13869.66673213, 15456.16196732, 15974.00907672, 17612.35917161,\n",
       "       10722.32509097])"
      ]
     },
     "execution_count": 3,
     "metadata": {},
     "output_type": "execute_result"
    }
   ],
   "source": [
    "# Realizamos la regresión múltiple\n",
    "lm = sklm.LinearRegression()\n",
    "Z = dfPython[[\"potencia\", \"peso\", \"tamañoMotor\", \"mpgCarretera\"]]\n",
    "lm.fit(Z, dfPython[\"PRECIO\"])\n",
    "Yhat = lm.predict(Z)\n",
    "Yhat[1:10]"
   ]
  },
  {
   "cell_type": "markdown",
   "metadata": {},
   "source": [
    "# Regresión lineal multiple Orange"
   ]
  },
  {
   "cell_type": "code",
   "execution_count": 4,
   "metadata": {},
   "outputs": [
    {
     "data": {
      "text/html": [
       "<div>\n",
       "<style scoped>\n",
       "    .dataframe tbody tr th:only-of-type {\n",
       "        vertical-align: middle;\n",
       "    }\n",
       "\n",
       "    .dataframe tbody tr th {\n",
       "        vertical-align: top;\n",
       "    }\n",
       "\n",
       "    .dataframe thead th {\n",
       "        text-align: right;\n",
       "    }\n",
       "</style>\n",
       "<table border=\"1\" class=\"dataframe\">\n",
       "  <thead>\n",
       "    <tr style=\"text-align: right;\">\n",
       "      <th></th>\n",
       "      <th>mpgCarretera</th>\n",
       "      <th>potencia</th>\n",
       "      <th>tamañoMotor</th>\n",
       "      <th>peso</th>\n",
       "      <th>PRECIO</th>\n",
       "      <th>Linear Regression</th>\n",
       "    </tr>\n",
       "  </thead>\n",
       "  <tbody>\n",
       "    <tr>\n",
       "      <th>0</th>\n",
       "      <td>continuous</td>\n",
       "      <td>continuous</td>\n",
       "      <td>continuous</td>\n",
       "      <td>continuous</td>\n",
       "      <td>continuous</td>\n",
       "      <td>continuous</td>\n",
       "    </tr>\n",
       "    <tr>\n",
       "      <th>1</th>\n",
       "      <td>NaN</td>\n",
       "      <td>NaN</td>\n",
       "      <td>NaN</td>\n",
       "      <td>NaN</td>\n",
       "      <td>class</td>\n",
       "      <td>meta</td>\n",
       "    </tr>\n",
       "    <tr>\n",
       "      <th>2</th>\n",
       "      <td>27.0</td>\n",
       "      <td>111.0</td>\n",
       "      <td>130.0</td>\n",
       "      <td>2548.0</td>\n",
       "      <td>13495.0</td>\n",
       "      <td>13699.11161184327</td>\n",
       "    </tr>\n",
       "    <tr>\n",
       "      <th>3</th>\n",
       "      <td>27.0</td>\n",
       "      <td>111.0</td>\n",
       "      <td>130.0</td>\n",
       "      <td>2548.0</td>\n",
       "      <td>16500.0</td>\n",
       "      <td>13699.11161184327</td>\n",
       "    </tr>\n",
       "    <tr>\n",
       "      <th>4</th>\n",
       "      <td>26.0</td>\n",
       "      <td>154.0</td>\n",
       "      <td>152.0</td>\n",
       "      <td>2823.0</td>\n",
       "      <td>16500.0</td>\n",
       "      <td>19051.654702332744</td>\n",
       "    </tr>\n",
       "    <tr>\n",
       "      <th>...</th>\n",
       "      <td>...</td>\n",
       "      <td>...</td>\n",
       "      <td>...</td>\n",
       "      <td>...</td>\n",
       "      <td>...</td>\n",
       "      <td>...</td>\n",
       "    </tr>\n",
       "    <tr>\n",
       "      <th>198</th>\n",
       "      <td>28.0</td>\n",
       "      <td>114.0</td>\n",
       "      <td>141.0</td>\n",
       "      <td>2952.0</td>\n",
       "      <td>16845.0</td>\n",
       "      <td>16694.400437195436</td>\n",
       "    </tr>\n",
       "    <tr>\n",
       "      <th>199</th>\n",
       "      <td>25.0</td>\n",
       "      <td>160.0</td>\n",
       "      <td>141.0</td>\n",
       "      <td>3049.0</td>\n",
       "      <td>19045.0</td>\n",
       "      <td>19503.679201621802</td>\n",
       "    </tr>\n",
       "    <tr>\n",
       "      <th>200</th>\n",
       "      <td>23.0</td>\n",
       "      <td>134.0</td>\n",
       "      <td>173.0</td>\n",
       "      <td>3012.0</td>\n",
       "      <td>21485.0</td>\n",
       "      <td>20475.45837959012</td>\n",
       "    </tr>\n",
       "    <tr>\n",
       "      <th>201</th>\n",
       "      <td>27.0</td>\n",
       "      <td>106.0</td>\n",
       "      <td>145.0</td>\n",
       "      <td>3217.0</td>\n",
       "      <td>22470.0</td>\n",
       "      <td>17804.038813428153</td>\n",
       "    </tr>\n",
       "    <tr>\n",
       "      <th>202</th>\n",
       "      <td>25.0</td>\n",
       "      <td>114.0</td>\n",
       "      <td>141.0</td>\n",
       "      <td>3062.0</td>\n",
       "      <td>22625.0</td>\n",
       "      <td>17104.075080153518</td>\n",
       "    </tr>\n",
       "  </tbody>\n",
       "</table>\n",
       "<p>203 rows × 6 columns</p>\n",
       "</div>"
      ],
      "text/plain": [
       "    mpgCarretera    potencia tamañoMotor        peso      PRECIO  \\\n",
       "0     continuous  continuous  continuous  continuous  continuous   \n",
       "1            NaN         NaN         NaN         NaN       class   \n",
       "2           27.0       111.0       130.0      2548.0     13495.0   \n",
       "3           27.0       111.0       130.0      2548.0     16500.0   \n",
       "4           26.0       154.0       152.0      2823.0     16500.0   \n",
       "..           ...         ...         ...         ...         ...   \n",
       "198         28.0       114.0       141.0      2952.0     16845.0   \n",
       "199         25.0       160.0       141.0      3049.0     19045.0   \n",
       "200         23.0       134.0       173.0      3012.0     21485.0   \n",
       "201         27.0       106.0       145.0      3217.0     22470.0   \n",
       "202         25.0       114.0       141.0      3062.0     22625.0   \n",
       "\n",
       "      Linear Regression  \n",
       "0            continuous  \n",
       "1                  meta  \n",
       "2     13699.11161184327  \n",
       "3     13699.11161184327  \n",
       "4    19051.654702332744  \n",
       "..                  ...  \n",
       "198  16694.400437195436  \n",
       "199  19503.679201621802  \n",
       "200   20475.45837959012  \n",
       "201  17804.038813428153  \n",
       "202  17104.075080153518  \n",
       "\n",
       "[203 rows x 6 columns]"
      ]
     },
     "execution_count": 4,
     "metadata": {},
     "output_type": "execute_result"
    }
   ],
   "source": [
    "# Visualizar las predicciones con sus datos independientes\n",
    "dfOrange"
   ]
  },
  {
   "cell_type": "markdown",
   "metadata": {},
   "source": [
    "# Limpiar los datos"
   ]
  },
  {
   "cell_type": "code",
   "execution_count": 5,
   "metadata": {},
   "outputs": [
    {
     "data": {
      "text/plain": [
       "2       13699.11161184327\n",
       "3       13699.11161184327\n",
       "4      19051.654702332744\n",
       "5       10620.36193014896\n",
       "6       15521.31420210586\n",
       "              ...        \n",
       "198    16694.400437195436\n",
       "199    19503.679201621802\n",
       "200     20475.45837959012\n",
       "201    17804.038813428153\n",
       "202    17104.075080153518\n",
       "Name: Linear Regression, Length: 201, dtype: object"
      ]
     },
     "execution_count": 5,
     "metadata": {},
     "output_type": "execute_result"
    }
   ],
   "source": [
    "# limpiar los datos\n",
    "elim = dfOrange[\"Linear Regression\"].drop([0, 1], axis=0)\n",
    "elim"
   ]
  },
  {
   "cell_type": "markdown",
   "metadata": {},
   "source": [
    "# Comparar datos"
   ]
  },
  {
   "cell_type": "code",
   "execution_count": 6,
   "metadata": {},
   "outputs": [
    {
     "name": "stderr",
     "output_type": "stream",
     "text": [
      "C:\\Users\\USER\\AppData\\Local\\Packages\\PythonSoftwareFoundation.Python.3.9_qbz5n2kfra8p0\\LocalCache\\local-packages\\Python39\\site-packages\\seaborn\\distributions.py:2619: FutureWarning: `distplot` is a deprecated function and will be removed in a future version. Please adapt your code to use either `displot` (a figure-level function with similar flexibility) or `kdeplot` (an axes-level function for kernel density plots).\n",
      "  warnings.warn(msg, FutureWarning)\n"
     ]
    },
    {
     "data": {
      "text/plain": [
       "<AxesSubplot:ylabel='Density'>"
      ]
     },
     "execution_count": 6,
     "metadata": {},
     "output_type": "execute_result"
    },
    {
     "data": {
      "image/png": "[encoded data removed]",
      "text/plain": [
       "<Figure size 432x288 with 1 Axes>"
      ]
     },
     "metadata": {
      "needs_background": "light"
     },
     "output_type": "display_data"
    }
   ],
   "source": [
    "# Visualizar las predicciones de python\n",
    "ax1 = sns.distplot(Yhat, hist=False, color=\"r\", label=\"Valor Real\")\n",
    "ax1"
   ]
  },
  {
   "cell_type": "code",
   "execution_count": 7,
   "metadata": {},
   "outputs": [
    {
     "name": "stderr",
     "output_type": "stream",
     "text": [
      "C:\\Users\\USER\\AppData\\Local\\Packages\\PythonSoftwareFoundation.Python.3.9_qbz5n2kfra8p0\\LocalCache\\local-packages\\Python39\\site-packages\\seaborn\\distributions.py:2619: FutureWarning: `distplot` is a deprecated function and will be removed in a future version. Please adapt your code to use either `displot` (a figure-level function with similar flexibility) or `kdeplot` (an axes-level function for kernel density plots).\n",
      "  warnings.warn(msg, FutureWarning)\n"
     ]
    },
    {
     "data": {
      "text/plain": [
       "<AxesSubplot:xlabel='Linear Regression', ylabel='Density'>"
      ]
     },
     "execution_count": 7,
     "metadata": {},
     "output_type": "execute_result"
    },
    {
     "data": {
      "image/png": "[encoded data removed]",
      "text/plain": [
       "<Figure size 432x288 with 1 Axes>"
      ]
     },
     "metadata": {
      "needs_background": "light"
     },
     "output_type": "display_data"
    }
   ],
   "source": [
    "# Visualizar las predicciones de orange\n",
    "sns.distplot(elim, hist=False, color=\"g\", label=\"Valor Real\")"
   ]
  },
  {
   "cell_type": "markdown",
   "metadata": {},
   "source": [
    "# Comparar las predicciones de Orange y python"
   ]
  },
  {
   "cell_type": "code",
   "execution_count": 8,
   "metadata": {},
   "outputs": [
    {
     "name": "stderr",
     "output_type": "stream",
     "text": [
      "C:\\Users\\USER\\AppData\\Local\\Packages\\PythonSoftwareFoundation.Python.3.9_qbz5n2kfra8p0\\LocalCache\\local-packages\\Python39\\site-packages\\seaborn\\distributions.py:2619: FutureWarning: `distplot` is a deprecated function and will be removed in a future version. Please adapt your code to use either `displot` (a figure-level function with similar flexibility) or `kdeplot` (an axes-level function for kernel density plots).\n",
      "  warnings.warn(msg, FutureWarning)\n",
      "C:\\Users\\USER\\AppData\\Local\\Packages\\PythonSoftwareFoundation.Python.3.9_qbz5n2kfra8p0\\LocalCache\\local-packages\\Python39\\site-packages\\seaborn\\distributions.py:2619: FutureWarning: `distplot` is a deprecated function and will be removed in a future version. Please adapt your code to use either `displot` (a figure-level function with similar flexibility) or `kdeplot` (an axes-level function for kernel density plots).\n",
      "  warnings.warn(msg, FutureWarning)\n"
     ]
    },
    {
     "data": {
      "text/plain": [
       "<AxesSubplot:xlabel='Linear Regression', ylabel='Density'>"
      ]
     },
     "execution_count": 8,
     "metadata": {},
     "output_type": "execute_result"
    },
    {
     "data": {
      "image/png": "[encoded data removed]",
      "text/plain": [
       "<Figure size 432x288 with 1 Axes>"
      ]
     },
     "metadata": {
      "needs_background": "light"
     },
     "output_type": "display_data"
    }
   ],
   "source": [
    "# Visulizar la comparacion entre las predicciones de orange y python\n",
    "ax1 = sns.distplot(Yhat, hist=False, color=\"r\", label=\"Valor Real\")\n",
    "sns.distplot(elim, hist=False, color=\"b\", label=\"Valor Real\", ax=ax1)"
   ]
  }
 ],
 "metadata": {
  "interpreter": {
   "hash": "f0a8ca1b1324573d7b9c7247f92177669f6f55c0b2d917412ca0894f2d26eb46"
  },
  "kernelspec": {
   "display_name": "Python 3.9.7 64-bit (windows store)",
   "name": "python3"
  },
  "language_info": {
   "codemirror_mode": {
    "name": "ipython",
    "version": 3
   },
   "file_extension": ".py",
   "mimetype": "text/x-python",
   "name": "python",
   "nbconvert_exporter": "python",
   "pygments_lexer": "ipython3",
   "version": "3.9.7"
  },
  "orig_nbformat": 4
 },
 "nbformat": 4,
 "nbformat_minor": 2
}
